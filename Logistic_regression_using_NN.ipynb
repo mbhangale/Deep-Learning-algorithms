{
 "cells": [
  {
   "cell_type": "code",
   "execution_count": 1,
   "metadata": {},
   "outputs": [],
   "source": [
    "#########   DATA PREPROCESSING    ############"
   ]
  },
  {
   "cell_type": "code",
   "execution_count": 2,
   "metadata": {},
   "outputs": [],
   "source": [
    "from PIL import Image\n",
    "import numpy as np\n",
    "import os\n",
    "from sklearn.utils import shuffle\n",
    "import matplotlib.pyplot as plt\n",
    "from numpy import *"
   ]
  },
  {
   "cell_type": "code",
   "execution_count": 3,
   "metadata": {},
   "outputs": [],
   "source": [
    "#file paths\n",
    "#training data path\n",
    "cat_p = 'Dataset/cat' #write complete path if file is not in same directory as that of this code\n",
    "ncat_p = 'Dataset/notcat'\n",
    "icat_p = 'Dataset/input_cat_resized'\n",
    "incat_p = 'Dataset/input_notcat_resized'\n",
    "\n",
    "#test data path\n",
    "cat_t_p = 'Dataset/cat_test' \n",
    "ncat_t_p = 'Dataset/notcat_test'\n",
    "icat_t_p = 'Dataset/cat_test_resized'\n",
    "incat_t_p = 'Dataset/notcat_test_resized'"
   ]
  },
  {
   "cell_type": "code",
   "execution_count": 4,
   "metadata": {},
   "outputs": [],
   "source": [
    "#make list of elements of file\n",
    "\n",
    "#traning data\n",
    "list_cat = os.listdir(cat_p)\n",
    "list_ncat = os.listdir(ncat_p)\n",
    "\n",
    "#test data\n",
    "list_cat_t = os.listdir(cat_t_p)\n",
    "list_ncat_t = os.listdir(ncat_t_p)"
   ]
  },
  {
   "cell_type": "code",
   "execution_count": 5,
   "metadata": {},
   "outputs": [
    {
     "name": "stderr",
     "output_type": "stream",
     "text": [
      "C:\\Users\\wishw\\Anaconda3\\lib\\site-packages\\PIL\\Image.py:916: UserWarning: Palette images with Transparency   expressed in bytes should be converted to RGBA images\n",
      "  'to RGBA images')\n"
     ]
    }
   ],
   "source": [
    "#resize all images from cat folder and store in input_cat_resize folder\n",
    "\n",
    "#training data\n",
    "for i in list_cat:\n",
    "    im = Image.open(cat_p+'\\\\'+i)\n",
    "    im1 = im.resize((200,200))\n",
    "    im2 = im1.convert('RGB')\n",
    "    im2.save(icat_p+'\\\\'+i,'JPEG')    \n",
    "    \n",
    "#test data\n",
    "for i in list_cat_t:\n",
    "    im = Image.open(cat_t_p+'\\\\'+i)\n",
    "    im1 = im.resize((200,200))\n",
    "    im2 = im1.convert('RGB')\n",
    "    im2.save(icat_t_p+'\\\\'+i,'JPEG')    \n"
   ]
  },
  {
   "cell_type": "code",
   "execution_count": 6,
   "metadata": {},
   "outputs": [
    {
     "name": "stderr",
     "output_type": "stream",
     "text": [
      "C:\\Users\\wishw\\Anaconda3\\lib\\site-packages\\PIL\\Image.py:916: UserWarning: Palette images with Transparency   expressed in bytes should be converted to RGBA images\n",
      "  'to RGBA images')\n"
     ]
    }
   ],
   "source": [
    "#resize all images from notcat folder and store in input_notcat_resize folder\n",
    "\n",
    "#training data\n",
    "for i in list_ncat:\n",
    "    im = Image.open(ncat_p+'\\\\'+i)\n",
    "    im1 = im.resize((200,200))\n",
    "    im2 = im1.convert('RGB')\n",
    "    im2.save(incat_p+'\\\\'+i,'JPEG')    \n",
    "    \n",
    "#test data\n",
    "for i in list_ncat_t:\n",
    "    im = Image.open(ncat_t_p+'\\\\'+i)\n",
    "    im1 = im.resize((200,200))\n",
    "    im2 = im1.convert('RGB')\n",
    "    im2.save(incat_t_p+'\\\\'+i,'JPEG')    \n"
   ]
  },
  {
   "cell_type": "code",
   "execution_count": 7,
   "metadata": {},
   "outputs": [],
   "source": [
    "#list out resized images \n",
    "\n",
    "#training data\n",
    "list_cat = os.listdir(icat_p)\n",
    "list_ncat = os.listdir(incat_p)\n",
    "\n",
    "#test data\n",
    "list_cat_t = os.listdir(icat_t_p)\n",
    "list_ncat_t = os.listdir(incat_t_p)"
   ]
  },
  {
   "cell_type": "code",
   "execution_count": 8,
   "metadata": {},
   "outputs": [],
   "source": [
    "m_c = len(list_cat)\n",
    "m_nc = len(list_ncat)\n",
    "m_c_t = len(list_cat_t)\n",
    "m_nc_t = len(list_ncat_t)"
   ]
  },
  {
   "cell_type": "code",
   "execution_count": 9,
   "metadata": {},
   "outputs": [],
   "source": [
    "#flatten images to matrix(m,n_x)\n",
    "\n",
    "#training data\n",
    "catmatrix = np.array([np.array(Image.open(icat_p+'\\\\'+i)).flatten() for i in list_cat],'f')\n",
    "\n",
    "#test data\n",
    "cat_tmatrix = np.array([np.array(Image.open(icat_t_p+'\\\\'+i)).flatten() for i in list_cat_t],'f')"
   ]
  },
  {
   "cell_type": "code",
   "execution_count": 10,
   "metadata": {},
   "outputs": [
    {
     "data": {
      "text/plain": [
       "(600, 120000)"
      ]
     },
     "execution_count": 10,
     "metadata": {},
     "output_type": "execute_result"
    }
   ],
   "source": [
    "catmatrix.shape"
   ]
  },
  {
   "cell_type": "code",
   "execution_count": 11,
   "metadata": {},
   "outputs": [
    {
     "data": {
      "text/plain": [
       "(200, 120000)"
      ]
     },
     "execution_count": 11,
     "metadata": {},
     "output_type": "execute_result"
    }
   ],
   "source": [
    "cat_tmatrix.shape"
   ]
  },
  {
   "cell_type": "code",
   "execution_count": 12,
   "metadata": {},
   "outputs": [],
   "source": [
    "cat = catmatrix.T\n",
    "cat_t = cat_tmatrix.T"
   ]
  },
  {
   "cell_type": "code",
   "execution_count": 13,
   "metadata": {},
   "outputs": [
    {
     "data": {
      "text/plain": [
       "(120000, 600)"
      ]
     },
     "execution_count": 13,
     "metadata": {},
     "output_type": "execute_result"
    }
   ],
   "source": [
    "cat.shape"
   ]
  },
  {
   "cell_type": "code",
   "execution_count": 14,
   "metadata": {},
   "outputs": [
    {
     "data": {
      "text/plain": [
       "(120000, 200)"
      ]
     },
     "execution_count": 14,
     "metadata": {},
     "output_type": "execute_result"
    }
   ],
   "source": [
    "cat_t.shape"
   ]
  },
  {
   "cell_type": "code",
   "execution_count": 15,
   "metadata": {},
   "outputs": [],
   "source": [
    "#flatten images to matrix\n",
    "\n",
    "#training data\n",
    "ncatmatrix = np.array([np.array(Image.open(incat_p+'\\\\'+i)).flatten() for i in list_ncat],'f')\n",
    "\n",
    "#test data\n",
    "ncat_tmatrix = np.array([np.array(Image.open(incat_t_p+'\\\\'+i)).flatten() for i in list_ncat_t],'f')\n"
   ]
  },
  {
   "cell_type": "code",
   "execution_count": 16,
   "metadata": {},
   "outputs": [
    {
     "data": {
      "text/plain": [
       "(400, 120000)"
      ]
     },
     "execution_count": 16,
     "metadata": {},
     "output_type": "execute_result"
    }
   ],
   "source": [
    "ncatmatrix.shape"
   ]
  },
  {
   "cell_type": "code",
   "execution_count": 17,
   "metadata": {},
   "outputs": [
    {
     "data": {
      "text/plain": [
       "(200, 120000)"
      ]
     },
     "execution_count": 17,
     "metadata": {},
     "output_type": "execute_result"
    }
   ],
   "source": [
    "ncat_tmatrix.shape"
   ]
  },
  {
   "cell_type": "code",
   "execution_count": 18,
   "metadata": {},
   "outputs": [],
   "source": [
    "ncat = ncatmatrix.T\n",
    "ncat_t = ncat_tmatrix.T"
   ]
  },
  {
   "cell_type": "code",
   "execution_count": 19,
   "metadata": {},
   "outputs": [
    {
     "data": {
      "text/plain": [
       "(120000, 400)"
      ]
     },
     "execution_count": 19,
     "metadata": {},
     "output_type": "execute_result"
    }
   ],
   "source": [
    "ncat.shape"
   ]
  },
  {
   "cell_type": "code",
   "execution_count": 20,
   "metadata": {},
   "outputs": [
    {
     "data": {
      "text/plain": [
       "(120000, 200)"
      ]
     },
     "execution_count": 20,
     "metadata": {},
     "output_type": "execute_result"
    }
   ],
   "source": [
    "ncat_t.shape"
   ]
  },
  {
   "cell_type": "code",
   "execution_count": 21,
   "metadata": {},
   "outputs": [],
   "source": [
    "#concatanate both matrix to form our dataset\n",
    "X = np.concatenate((cat,ncat),axis=1)\n",
    "X_t = np.concatenate((cat_t,ncat_t),axis=1)"
   ]
  },
  {
   "cell_type": "code",
   "execution_count": 22,
   "metadata": {
    "scrolled": true
   },
   "outputs": [
    {
     "data": {
      "text/plain": [
       "(120000, 1000)"
      ]
     },
     "execution_count": 22,
     "metadata": {},
     "output_type": "execute_result"
    }
   ],
   "source": [
    "X.shape"
   ]
  },
  {
   "cell_type": "code",
   "execution_count": 23,
   "metadata": {},
   "outputs": [
    {
     "data": {
      "text/plain": [
       "(120000, 400)"
      ]
     },
     "execution_count": 23,
     "metadata": {},
     "output_type": "execute_result"
    }
   ],
   "source": [
    "X_t.shape"
   ]
  },
  {
   "cell_type": "code",
   "execution_count": 24,
   "metadata": {},
   "outputs": [],
   "source": [
    "#labelling the dataset\n",
    "m = X.shape[1] #no. of images\n",
    "m_t = X_t.shape[1]\n",
    "Y = np.zeros((m,1),dtype=int)\n",
    "Y_t = np.zeros((m_t,1),dtype=int)\n",
    "Y[0:m_c] = 1 \n",
    "Y_t[0:m_c_t] = 1"
   ]
  },
  {
   "cell_type": "code",
   "execution_count": 25,
   "metadata": {},
   "outputs": [],
   "source": [
    "Y = Y.reshape((1,X.shape[1])).T\n",
    "Y_t = Y_t.reshape((1,X_t.shape[1])).T"
   ]
  },
  {
   "cell_type": "code",
   "execution_count": 26,
   "metadata": {},
   "outputs": [
    {
     "data": {
      "text/plain": [
       "(1000, 1)"
      ]
     },
     "execution_count": 26,
     "metadata": {},
     "output_type": "execute_result"
    }
   ],
   "source": [
    "Y.shape"
   ]
  },
  {
   "cell_type": "code",
   "execution_count": 27,
   "metadata": {},
   "outputs": [
    {
     "data": {
      "text/plain": [
       "(400, 1)"
      ]
     },
     "execution_count": 27,
     "metadata": {},
     "output_type": "execute_result"
    }
   ],
   "source": [
    "Y_t.shape"
   ]
  },
  {
   "cell_type": "code",
   "execution_count": 28,
   "metadata": {},
   "outputs": [],
   "source": [
    "X = X.reshape((120000,X.shape[1])).T\n",
    "X_t = X_t.reshape((120000,X_t.shape[1])).T"
   ]
  },
  {
   "cell_type": "code",
   "execution_count": 29,
   "metadata": {},
   "outputs": [
    {
     "data": {
      "text/plain": [
       "(1000, 120000)"
      ]
     },
     "execution_count": 29,
     "metadata": {},
     "output_type": "execute_result"
    }
   ],
   "source": [
    "X.shape"
   ]
  },
  {
   "cell_type": "code",
   "execution_count": 30,
   "metadata": {},
   "outputs": [
    {
     "data": {
      "text/plain": [
       "(400, 120000)"
      ]
     },
     "execution_count": 30,
     "metadata": {},
     "output_type": "execute_result"
    }
   ],
   "source": [
    "X_t.shape"
   ]
  },
  {
   "cell_type": "code",
   "execution_count": 31,
   "metadata": {},
   "outputs": [],
   "source": [
    "#shuffle data\n",
    "X_train,Y_train = shuffle(X,Y, random_state=0)\n",
    "X_test,Y_test = shuffle(X_t,Y_t, random_state=0)"
   ]
  },
  {
   "cell_type": "code",
   "execution_count": 32,
   "metadata": {},
   "outputs": [],
   "source": [
    "X_train = X_train.T\n",
    "X_test = X_test.T"
   ]
  },
  {
   "cell_type": "code",
   "execution_count": 33,
   "metadata": {},
   "outputs": [
    {
     "data": {
      "text/plain": [
       "(120000, 1000)"
      ]
     },
     "execution_count": 33,
     "metadata": {},
     "output_type": "execute_result"
    }
   ],
   "source": [
    "X_train.shape"
   ]
  },
  {
   "cell_type": "code",
   "execution_count": 34,
   "metadata": {},
   "outputs": [
    {
     "data": {
      "text/plain": [
       "(120000, 400)"
      ]
     },
     "execution_count": 34,
     "metadata": {},
     "output_type": "execute_result"
    }
   ],
   "source": [
    "X_test.shape"
   ]
  },
  {
   "cell_type": "code",
   "execution_count": 35,
   "metadata": {},
   "outputs": [],
   "source": [
    "Y_train = Y_train.T\n",
    "Y_test = Y_test.T"
   ]
  },
  {
   "cell_type": "code",
   "execution_count": 36,
   "metadata": {
    "scrolled": true
   },
   "outputs": [
    {
     "data": {
      "text/plain": [
       "(1, 1000)"
      ]
     },
     "execution_count": 36,
     "metadata": {},
     "output_type": "execute_result"
    }
   ],
   "source": [
    "Y_train.shape"
   ]
  },
  {
   "cell_type": "code",
   "execution_count": 37,
   "metadata": {},
   "outputs": [
    {
     "data": {
      "text/plain": [
       "(1, 400)"
      ]
     },
     "execution_count": 37,
     "metadata": {},
     "output_type": "execute_result"
    }
   ],
   "source": [
    "Y_test.shape"
   ]
  },
  {
   "cell_type": "code",
   "execution_count": 38,
   "metadata": {},
   "outputs": [],
   "source": [
    "#standardize data\n",
    "X_train = X_train/255   #255 is maximum possible value in image pixle \n",
    "X_test = X_test/255"
   ]
  },
  {
   "cell_type": "code",
   "execution_count": 39,
   "metadata": {},
   "outputs": [],
   "source": [
    "#\n",
    "#-----------   FUNCTIONS USED IN LEARNING MODEL      ----------------\n",
    "#"
   ]
  },
  {
   "cell_type": "code",
   "execution_count": 40,
   "metadata": {},
   "outputs": [],
   "source": [
    "#sigmoid function\n",
    "def sigmoid(z):\n",
    "    s = 1/(1+np.exp(-z))\n",
    "    return s"
   ]
  },
  {
   "cell_type": "code",
   "execution_count": 41,
   "metadata": {},
   "outputs": [],
   "source": [
    "#initialization of parameter w,b\n",
    "def initialize(n_x):\n",
    "    W = np.random.randn(1,n_x)*0.01\n",
    "    #W = np.zeros(shape=(1,n_x))\n",
    "    b = 0\n",
    "    assert(W.shape == (1,n_x))\n",
    "    assert(isinstance(b, float) or isinstance(b, int))\n",
    "\n",
    "    return W,b"
   ]
  },
  {
   "cell_type": "code",
   "execution_count": 42,
   "metadata": {},
   "outputs": [],
   "source": [
    "#forword and backword propagation\n",
    "def propagate(X,Y,W,b):\n",
    "    m = X.shape[1]\n",
    "    \n",
    "    #forword propagation\n",
    "    Z = np.dot(W,X) + b\n",
    "    A = sigmoid(Z)\n",
    "    J = (-1/m)* np.sum(Y * np.log1p(A) + (1-Y) * (np.log1p(1-A)))\n",
    "    \n",
    "    #backword propagation\n",
    "    dZ = A - Y\n",
    "    dW = (1/m)*np.dot(dZ,X.T)\n",
    "    db = (1/m)*np.sum(dZ)\n",
    "    \n",
    "    assert(dW.shape == W.shape)\n",
    "    assert(db.dtype == float)\n",
    "    J = np.squeeze(J)\n",
    "    assert(J.shape == ())\n",
    "    \n",
    "    grad = {\"dW\":dW,\n",
    "            \"db\":db}\n",
    "    \n",
    "    return grad,J"
   ]
  },
  {
   "cell_type": "code",
   "execution_count": 43,
   "metadata": {},
   "outputs": [],
   "source": [
    "def optimize(W, b, X, Y, num_iterations, learning_rate):\n",
    "    costs = []\n",
    "    for i in range(num_iterations):\n",
    "        \n",
    "        grad,J = propagate(X,Y,W,b)\n",
    "    \n",
    "        dW = grad[\"dW\"]\n",
    "        db = grad[\"db\"]\n",
    "        \n",
    "        W = W - learning_rate*dW\n",
    "        b = b - learning_rate*db\n",
    "        \n",
    "        if i%100==0:\n",
    "            costs.append(J)\n",
    "            print (\"Cost after iteration %i: %f\" % (i, J))\n",
    "        \n",
    "    params = {\"W\": W,\n",
    "              \"b\": b}\n",
    "    grad = {\"dW\": dW,\n",
    "             \"db\": db}\n",
    "    \n",
    "    return params, grad, costs"
   ]
  },
  {
   "cell_type": "code",
   "execution_count": 44,
   "metadata": {},
   "outputs": [],
   "source": [
    "#predict function\n",
    "def predict(W,b,X):\n",
    "    m = X.shape[1]\n",
    "    Y_prediction = np.zeros((1, m))\n",
    "    W = W.reshape(1,X.shape[0])\n",
    "    Z = np.dot(W, X) + b\n",
    "    A = sigmoid(Z)\n",
    "    \n",
    "    for i in range(A.shape[1]):\n",
    "        Y_prediction[0, i] = 1 if A[0, i] > 0.5 else 0\n",
    "       \n",
    "    assert(Y_prediction.shape == (1, m))\n",
    "    \n",
    "    return Y_prediction"
   ]
  },
  {
   "cell_type": "code",
   "execution_count": 45,
   "metadata": {},
   "outputs": [],
   "source": [
    "def model(X_train, Y_train, X_test, Y_test, num_iterations=2000, learning_rate=0.5):\n",
    "    \n",
    "    # initialize parameters with zeros\n",
    "    W, b = initialize(X_train.shape[0])\n",
    "\n",
    "    # Gradient descent\n",
    "    parameters, grads, costs = optimize(W, b, X_train, Y_train, num_iterations, learning_rate)\n",
    "    \n",
    "    # Retrieve parameters w and b from dictionary \"parameters\"\n",
    "    W = parameters[\"W\"]\n",
    "    b = parameters[\"b\"]\n",
    "    \n",
    "    # Predict test/train set examples\n",
    "    Y_prediction_test = predict(W, b, X_test)\n",
    "    Y_prediction_train = predict(W, b, X_train)\n",
    "\n",
    "    # Print train/test Errors\n",
    "    print(\"train accuracy: {} %\".format(100 - np.mean(np.abs(Y_prediction_train - Y_train)) * 100))\n",
    "    print(\"test accuracy: {} %\".format(100 - np.mean(np.abs(Y_prediction_test - Y_test)) * 100))\n",
    "\n",
    "    \n",
    "    d = {\"costs\": costs,\n",
    "         \"Y_prediction_test\": Y_prediction_test, \n",
    "         \"Y_prediction_train\" : Y_prediction_train, \n",
    "         \"W\" : W, \n",
    "         \"b\" : b,\n",
    "         \"learning_rate\" : learning_rate,\n",
    "         \"num_iterations\": num_iterations}\n",
    "    \n",
    "    return d"
   ]
  },
  {
   "cell_type": "code",
   "execution_count": 46,
   "metadata": {},
   "outputs": [],
   "source": [
    "#\n",
    "# -------------   LEARNING THE MODEL   ----------------\n",
    "#"
   ]
  },
  {
   "cell_type": "code",
   "execution_count": 47,
   "metadata": {
    "scrolled": true
   },
   "outputs": [
    {
     "name": "stdout",
     "output_type": "stream",
     "text": [
      "Cost after iteration 0: -0.423262\n",
      "Cost after iteration 100: -0.439693\n",
      "Cost after iteration 200: -0.449866\n",
      "Cost after iteration 300: -0.457257\n",
      "Cost after iteration 400: -0.463387\n",
      "Cost after iteration 500: -0.468682\n",
      "Cost after iteration 600: -0.473361\n",
      "Cost after iteration 700: -0.477565\n",
      "Cost after iteration 800: -0.481390\n",
      "Cost after iteration 900: -0.484907\n",
      "Cost after iteration 1000: -0.488167\n",
      "Cost after iteration 1100: -0.491211\n",
      "Cost after iteration 1200: -0.494070\n",
      "Cost after iteration 1300: -0.496770\n",
      "Cost after iteration 1400: -0.499329\n",
      "Cost after iteration 1500: -0.501764\n",
      "Cost after iteration 1600: -0.504089\n",
      "Cost after iteration 1700: -0.506315\n",
      "Cost after iteration 1800: -0.508452\n",
      "Cost after iteration 1900: -0.510507\n",
      "Cost after iteration 2000: -0.512488\n",
      "Cost after iteration 2100: -0.514400\n",
      "Cost after iteration 2200: -0.516249\n",
      "Cost after iteration 2300: -0.518040\n",
      "Cost after iteration 2400: -0.519776\n",
      "Cost after iteration 2500: -0.521462\n",
      "Cost after iteration 2600: -0.523100\n",
      "Cost after iteration 2700: -0.524694\n",
      "Cost after iteration 2800: -0.526246\n",
      "Cost after iteration 2900: -0.527758\n",
      "Cost after iteration 3000: -0.529233\n",
      "Cost after iteration 3100: -0.530673\n",
      "Cost after iteration 3200: -0.532079\n",
      "Cost after iteration 3300: -0.533453\n",
      "Cost after iteration 3400: -0.534797\n",
      "Cost after iteration 3500: -0.536113\n",
      "Cost after iteration 3600: -0.537400\n",
      "Cost after iteration 3700: -0.538661\n",
      "Cost after iteration 3800: -0.539897\n",
      "Cost after iteration 3900: -0.541109\n",
      "Cost after iteration 4000: -0.542297\n",
      "Cost after iteration 4100: -0.543463\n",
      "Cost after iteration 4200: -0.544607\n",
      "Cost after iteration 4300: -0.545731\n",
      "Cost after iteration 4400: -0.546835\n",
      "Cost after iteration 4500: -0.547920\n",
      "Cost after iteration 4600: -0.548985\n",
      "Cost after iteration 4700: -0.550033\n",
      "Cost after iteration 4800: -0.551064\n",
      "Cost after iteration 4900: -0.552078\n",
      "train accuracy: 90.2 %\n",
      "test accuracy: 82.0 %\n"
     ]
    }
   ],
   "source": [
    "\n",
    "d = model(X_train, Y_train, X_test, Y_test, num_iterations = 5000, learning_rate = 0.0002)"
   ]
  },
  {
   "cell_type": "code",
   "execution_count": 48,
   "metadata": {},
   "outputs": [],
   "source": [
    "#\n",
    "# ------ PLOTING THE COST vs NO. OF ITERATIONS ------------\n",
    "#"
   ]
  },
  {
   "cell_type": "code",
   "execution_count": 49,
   "metadata": {},
   "outputs": [
    {
     "data": {
      "image/png": "[encoded data removed]",
      "text/plain": [
       "<matplotlib.figure.Figure at 0x225ff8eec50>"
      ]
     },
     "metadata": {},
     "output_type": "display_data"
    }
   ],
   "source": [
    "costs = np.squeeze(d['costs'])\n",
    "plt.plot(costs)\n",
    "plt.ylabel('cost')\n",
    "plt.xlabel('iterations')\n",
    "plt.title(\"Learning rate =\" + str(d[\"learning_rate\"]))\n",
    "plt.show()\n"
   ]
  },
  {
   "cell_type": "code",
   "execution_count": null,
   "metadata": {},
   "outputs": [],
   "source": []
  },
  {
   "cell_type": "code",
   "execution_count": null,
   "metadata": {},
   "outputs": [],
   "source": []
  }
 ],
 "metadata": {
  "kernelspec": {
   "display_name": "Python 3",
   "language": "python",
   "name": "python3"
  },
  "language_info": {
   "codemirror_mode": {
    "name": "ipython",
    "version": 3
   },
   "file_extension": ".py",
   "mimetype": "text/x-python",
   "name": "python",
   "nbconvert_exporter": "python",
   "pygments_lexer": "ipython3",
   "version": "3.6.4"
  }
 },
 "nbformat": 4,
 "nbformat_minor": 2
}
